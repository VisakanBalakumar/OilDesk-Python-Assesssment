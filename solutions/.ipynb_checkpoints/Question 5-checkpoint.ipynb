{
 "cells": [
  {
   "cell_type": "markdown",
   "id": "8d4b9af4",
   "metadata": {},
   "source": [
    "# OilDesk-Python-Assessment: Question 5"
   ]
  },
  {
   "cell_type": "markdown",
   "id": "3801672c",
   "metadata": {},
   "source": [
    "Rewritten code to load the data from the CSV file. I chose this code block as thinking about what unique problems with datasets, in terms of missing values or other errors, really interested me. I have described the increased maintainability and modularity in markdown cells above each code block."
   ]
  },
  {
   "cell_type": "code",
   "execution_count": 1,
   "id": "e0c1436a",
   "metadata": {},
   "outputs": [],
   "source": [
    "import pandas as pd\n",
    "import logging"
   ]
  },
  {
   "cell_type": "markdown",
   "id": "042692ad",
   "metadata": {},
   "source": [
    "## 1. Take one of your previously written code blocks and refactor it to be more maintable and modular. Explain your decisions"
   ]
  },
  {
   "cell_type": "markdown",
   "id": "6c033b24",
   "metadata": {},
   "source": [
    "Created **`csv_file_path`** variable rather than passing file path directly to **`read_csv()`** function to ensure code readability, maintenance and flexibility (if referencing file path multiple times, changing file location or loading different file) and error handling before attempting to load file if the file path is wrong. "
   ]
  },
  {
   "cell_type": "code",
   "execution_count": 2,
   "id": "b17c0c9e",
   "metadata": {},
   "outputs": [],
   "source": [
    "csv_file_path = \"../data/MarketData.csv\""
   ]
  },
  {
   "cell_type": "markdown",
   "id": "ff322aba",
   "metadata": {},
   "source": [
    "Defined a custom **`read_csv_file`**, which uses a try-except block and Python's **`logging`** module to handle and log the following errors currently:\n",
    "- **`UnicodeDecodeError`** - function also specifies the widely-used **`utf-8`** encoding be used in case the CSV file contains non-ASCII characters.\n",
    "- **`FileNotFoundError`** - checks if the file exists at the specified path and logs .\n",
    " - Unexpected errors via **`except Exception as e`**.\n",
    " - Handles missing values in the dataset by listing those should be treated as missing values. Easily extended to include other values commonly seen.\n",
    " \n",
    "The list above is not exhaustive and can easily be amended to handle more errors for business-specific contexts by including more **`except`** statements.\n",
    "     \n",
    "\n"
   ]
  },
  {
   "cell_type": "code",
   "execution_count": 3,
   "id": "c6cb2368",
   "metadata": {},
   "outputs": [],
   "source": [
    "def read_csv_file(file_path):\n",
    "    try:\n",
    "        df = pd.read_csv(file_path, encoding='utf-8', na_values=['NA', 'N/A'])\n",
    "        logging.info(\"CSV file loaded successfully.\")\n",
    "        return df\n",
    "    except FileNotFoundError:\n",
    "        logging.error(\"File not found: %s\", file_path)\n",
    "        return None\n",
    "    except UnicodeDecodeError:\n",
    "        logging.error(\"Unable to decode file with UTF-8 encoding: %s\", file_path)\n",
    "        return None\n",
    "    except Exception as e:\n",
    "        logging.error(\"An unexpected error occurred: %s\", str(e))\n",
    "        return None"
   ]
  },
  {
   "cell_type": "markdown",
   "id": "08c7668d",
   "metadata": {},
   "source": [
    "**`read_csv_file()`** uses logging since this affords more flexibility (can log messages to various destinations without changing the logging statements), persistence (logs can be written to a file) and integration (with monitoring tools or dashboards for example). However, the extra if-else block underneath can confirm whether or not the CSV file has been loaded successfully using **`print()`** statements for speed and convenience in a Jupyter notebook. "
   ]
  },
  {
   "cell_type": "code",
   "execution_count": 4,
   "id": "6e825559",
   "metadata": {},
   "outputs": [
    {
     "name": "stdout",
     "output_type": "stream",
     "text": [
      "Data successfully loaded.\n"
     ]
    }
   ],
   "source": [
    "# Confirms if CSV file successfully loaded to pandas DataFrame or not\n",
    "df = read_csv_file(csv_file_path)\n",
    "if df is not None:\n",
    "    print(\"Data successfully loaded.\")\n",
    "else:\n",
    "    print(\"Error loading data. Please check logs for details.\")"
   ]
  }
 ],
 "metadata": {
  "kernelspec": {
   "display_name": "Python 3 (ipykernel)",
   "language": "python",
   "name": "python3"
  },
  "language_info": {
   "codemirror_mode": {
    "name": "ipython",
    "version": 3
   },
   "file_extension": ".py",
   "mimetype": "text/x-python",
   "name": "python",
   "nbconvert_exporter": "python",
   "pygments_lexer": "ipython3",
   "version": "3.11.4"
  }
 },
 "nbformat": 4,
 "nbformat_minor": 5
}
