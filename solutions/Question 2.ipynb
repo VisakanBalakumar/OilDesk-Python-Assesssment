{
 "cells": [
  {
   "cell_type": "markdown",
   "id": "2c498d0c",
   "metadata": {},
   "source": [
    "# OilDesk-Python-Assessment: Question 2"
   ]
  },
  {
   "cell_type": "markdown",
   "id": "0c4ae3a4",
   "metadata": {},
   "source": [
    "I am using SQLite for this question."
   ]
  },
  {
   "cell_type": "code",
   "execution_count": 1,
   "id": "75d007b7",
   "metadata": {},
   "outputs": [],
   "source": [
    "import sqlite3"
   ]
  },
  {
   "cell_type": "markdown",
   "id": "97649eb1",
   "metadata": {},
   "source": [
    "## 1. Create an SQL table schema to store time-series metal prices. Include fields like **`Date`**, **`Metal`**, **`Price`**"
   ]
  },
  {
   "cell_type": "code",
   "execution_count": 2,
   "id": "b891b15f",
   "metadata": {},
   "outputs": [],
   "source": [
    "# Connects to the database metal_prices.db\n",
    "conn = sqlite3.connect('metal_prices.db')\n",
    "\n",
    "# Creates a cursor object to perform SQL operations on the database\n",
    "c = conn.cursor()"
   ]
  },
  {
   "cell_type": "markdown",
   "id": "a5aff130",
   "metadata": {},
   "source": [
    "**`sqlite3.connect()`** will connect to the database **`metal_prices.db`** if it exists in the current working directory (implicitly creating the database if it does not already exist) and establishes a connection object that is stored in the variable **`conn`**."
   ]
  },
  {
   "cell_type": "code",
   "execution_count": 3,
   "id": "5d1b85e9",
   "metadata": {},
   "outputs": [
    {
     "data": {
      "text/plain": [
       "<sqlite3.Cursor at 0x10b37e440>"
      ]
     },
     "execution_count": 3,
     "metadata": {},
     "output_type": "execute_result"
    }
   ],
   "source": [
    "# Deletes the table metal_analysis if it exists\n",
    "c.execute('''\n",
    "DROP TABLE IF EXISTS metal_analysis\n",
    "''')"
   ]
  },
  {
   "cell_type": "code",
   "execution_count": 4,
   "id": "7a01575c",
   "metadata": {},
   "outputs": [
    {
     "data": {
      "text/plain": [
       "<sqlite3.Cursor at 0x10b37e440>"
      ]
     },
     "execution_count": 4,
     "metadata": {},
     "output_type": "execute_result"
    }
   ],
   "source": [
    "# Creates a new table metal_analysis if it does not already exist\n",
    "c.execute('''CREATE TABLE IF NOT EXISTS metal_analysis(\n",
    "    Date DATE,\n",
    "    Metal TEXT,\n",
    "    Price REAL,\n",
    "    MACD_Fast REAL,\n",
    "    Signal_Fast REAL,\n",
    "    MACD_Medium REAL,\n",
    "    Signal_Medium REAL,\n",
    "    MACD_Slow REAL,\n",
    "    Signal_Slow REAL,\n",
    "    RSI REAL\n",
    ")\n",
    "''')"
   ]
  },
  {
   "cell_type": "markdown",
   "id": "f0ad5493",
   "metadata": {},
   "source": [
    "## 2. Demonstrate basic CRUD operations"
   ]
  },
  {
   "cell_type": "code",
   "execution_count": 5,
   "id": "53310f5a",
   "metadata": {
    "scrolled": true
   },
   "outputs": [],
   "source": [
    "# Create: inserts data into the table\n",
    "c.execute(\"INSERT INTO metal_analysis (Date, Metal, Price) VALUES ('2020-04-24', 'Copper', 10000.00)\")\n",
    "\n",
    "# Saves all the changes made in the transaction to the database metal_prices.db\n",
    "conn.commit()"
   ]
  },
  {
   "cell_type": "code",
   "execution_count": 6,
   "id": "f4ec1488",
   "metadata": {},
   "outputs": [
    {
     "name": "stdout",
     "output_type": "stream",
     "text": [
      "('2020-04-24', 'Copper', 10000.0)\n"
     ]
    }
   ],
   "source": [
    "# Read: queries data from the table\n",
    "c.execute(\"SELECT Date, Metal, Price FROM metal_analysis\")\n",
    "\n",
    "# Iterates over query results held by the cursor object\n",
    "for row in c:\n",
    "    print(row)"
   ]
  },
  {
   "cell_type": "code",
   "execution_count": 7,
   "id": "cdf10c5c",
   "metadata": {},
   "outputs": [],
   "source": [
    "# Update: modifies data in the table\n",
    "c.execute(\"UPDATE metal_analysis SET Price = 9000.00 WHERE Metal = 'Copper' AND Date = '2024-04-24'\")\n",
    "conn.commit()"
   ]
  },
  {
   "cell_type": "code",
   "execution_count": 8,
   "id": "b4dab316",
   "metadata": {},
   "outputs": [],
   "source": [
    "# Delete: removes data from the table\n",
    "c.execute(\"DELETE FROM metal_analysis WHERE Metal = 'Copper'\")\n",
    "conn.commit()"
   ]
  },
  {
   "cell_type": "code",
   "execution_count": 9,
   "id": "80e47833",
   "metadata": {},
   "outputs": [],
   "source": [
    "# Closes the connection to the database to avoid file locks or data corruption\n",
    "conn.close()"
   ]
  }
 ],
 "metadata": {
  "kernelspec": {
   "display_name": "Python 3 (ipykernel)",
   "language": "python",
   "name": "python3"
  },
  "language_info": {
   "codemirror_mode": {
    "name": "ipython",
    "version": 3
   },
   "file_extension": ".py",
   "mimetype": "text/x-python",
   "name": "python",
   "nbconvert_exporter": "python",
   "pygments_lexer": "ipython3",
   "version": "3.11.4"
  }
 },
 "nbformat": 4,
 "nbformat_minor": 5
}
