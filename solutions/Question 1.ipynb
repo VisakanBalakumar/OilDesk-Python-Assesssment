{
 "cells": [
  {
   "cell_type": "markdown",
   "id": "8d4b9af4",
   "metadata": {},
   "source": [
    "# OilDesk-Python-Assessment: Question 1"
   ]
  },
  {
   "cell_type": "code",
   "execution_count": 1,
   "id": "0ca546ba",
   "metadata": {},
   "outputs": [],
   "source": [
    "import matplotlib.pyplot as plt\n",
    "import pandas as pd "
   ]
  },
  {
   "cell_type": "markdown",
   "id": "3e3d1bc1",
   "metadata": {},
   "source": [
    "## 1. Load a given CSV file containing metal prices into a Pandas DataFrame"
   ]
  },
  {
   "cell_type": "code",
   "execution_count": 2,
   "id": "b17c0c9e",
   "metadata": {},
   "outputs": [],
   "source": [
    "csv_file_path = \"../data/MarketData.csv\"\n",
    "df = pd.read_csv(csv_file_path)"
   ]
  },
  {
   "cell_type": "code",
   "execution_count": 3,
   "id": "bfc31d75",
   "metadata": {
    "scrolled": false
   },
   "outputs": [
    {
     "data": {
      "text/html": [
       "<div>\n",
       "<style scoped>\n",
       "    .dataframe tbody tr th:only-of-type {\n",
       "        vertical-align: middle;\n",
       "    }\n",
       "\n",
       "    .dataframe tbody tr th {\n",
       "        vertical-align: top;\n",
       "    }\n",
       "\n",
       "    .dataframe thead th {\n",
       "        text-align: right;\n",
       "    }\n",
       "</style>\n",
       "<table border=\"1\" class=\"dataframe\">\n",
       "  <thead>\n",
       "    <tr style=\"text-align: right;\">\n",
       "      <th></th>\n",
       "      <th>Start Date</th>\n",
       "      <th>01/01/2010</th>\n",
       "      <th>Unnamed: 2</th>\n",
       "      <th>Unnamed: 3</th>\n",
       "      <th>Unnamed: 4</th>\n",
       "      <th>Unnamed: 5</th>\n",
       "      <th>Unnamed: 6</th>\n",
       "    </tr>\n",
       "  </thead>\n",
       "  <tbody>\n",
       "    <tr>\n",
       "      <th>0</th>\n",
       "      <td>End Date</td>\n",
       "      <td>01/01/2023</td>\n",
       "      <td>NaN</td>\n",
       "      <td>NaN</td>\n",
       "      <td>NaN</td>\n",
       "      <td>NaN</td>\n",
       "      <td>NaN</td>\n",
       "    </tr>\n",
       "    <tr>\n",
       "      <th>1</th>\n",
       "      <td>NaN</td>\n",
       "      <td>NaN</td>\n",
       "      <td>NaN</td>\n",
       "      <td>NaN</td>\n",
       "      <td>NaN</td>\n",
       "      <td>NaN</td>\n",
       "      <td>NaN</td>\n",
       "    </tr>\n",
       "    <tr>\n",
       "      <th>2</th>\n",
       "      <td>NaN</td>\n",
       "      <td>LME COPPER    3MO ($)</td>\n",
       "      <td>LME ALUMINUM  3MO ($)</td>\n",
       "      <td>LME ZINC      3MO ($)</td>\n",
       "      <td>LME LEAD      3MO ($)</td>\n",
       "      <td>LME TIN       3MO ($)</td>\n",
       "      <td>Generic 1st 'CL' Future</td>\n",
       "    </tr>\n",
       "    <tr>\n",
       "      <th>3</th>\n",
       "      <td>NaN</td>\n",
       "      <td>LMCADS03 Comdty</td>\n",
       "      <td>LMAHDS03 Comdty</td>\n",
       "      <td>LMZSDS03 Comdty</td>\n",
       "      <td>LMPBDS03 Comdty</td>\n",
       "      <td>LMSNDS03 Comdty</td>\n",
       "      <td>CL1 Comdty</td>\n",
       "    </tr>\n",
       "    <tr>\n",
       "      <th>4</th>\n",
       "      <td>NaN</td>\n",
       "      <td>Settlement Price</td>\n",
       "      <td>Settlement Price</td>\n",
       "      <td>Settlement Price</td>\n",
       "      <td>Settlement Price</td>\n",
       "      <td>Settlement Price</td>\n",
       "      <td>Settlement Price</td>\n",
       "    </tr>\n",
       "    <tr>\n",
       "      <th>5</th>\n",
       "      <td>Dates</td>\n",
       "      <td>PX_SETTLE</td>\n",
       "      <td>PX_SETTLE</td>\n",
       "      <td>PX_SETTLE</td>\n",
       "      <td>PX_SETTLE</td>\n",
       "      <td>PX_SETTLE</td>\n",
       "      <td>PX_SETTLE</td>\n",
       "    </tr>\n",
       "    <tr>\n",
       "      <th>6</th>\n",
       "      <td>01/01/2010</td>\n",
       "      <td>7375</td>\n",
       "      <td>2230</td>\n",
       "      <td>2560</td>\n",
       "      <td>2432</td>\n",
       "      <td>16950</td>\n",
       "      <td>79.36</td>\n",
       "    </tr>\n",
       "    <tr>\n",
       "      <th>7</th>\n",
       "      <td>04/01/2010</td>\n",
       "      <td>7500</td>\n",
       "      <td>2267</td>\n",
       "      <td>2574</td>\n",
       "      <td>2515</td>\n",
       "      <td>17450</td>\n",
       "      <td>81.51</td>\n",
       "    </tr>\n",
       "    <tr>\n",
       "      <th>8</th>\n",
       "      <td>05/01/2010</td>\n",
       "      <td>7485</td>\n",
       "      <td>2302</td>\n",
       "      <td>2575</td>\n",
       "      <td>2522.5</td>\n",
       "      <td>17375</td>\n",
       "      <td>81.77</td>\n",
       "    </tr>\n",
       "    <tr>\n",
       "      <th>9</th>\n",
       "      <td>06/01/2010</td>\n",
       "      <td>7660</td>\n",
       "      <td>2377</td>\n",
       "      <td>2718</td>\n",
       "      <td>2680</td>\n",
       "      <td>17825</td>\n",
       "      <td>83.18</td>\n",
       "    </tr>\n",
       "  </tbody>\n",
       "</table>\n",
       "</div>"
      ],
      "text/plain": [
       "   Start Date             01/01/2010             Unnamed: 2  \\\n",
       "0    End Date             01/01/2023                    NaN   \n",
       "1         NaN                    NaN                    NaN   \n",
       "2         NaN  LME COPPER    3MO ($)  LME ALUMINUM  3MO ($)   \n",
       "3         NaN        LMCADS03 Comdty        LMAHDS03 Comdty   \n",
       "4         NaN       Settlement Price       Settlement Price   \n",
       "5       Dates              PX_SETTLE              PX_SETTLE   \n",
       "6  01/01/2010                   7375                   2230   \n",
       "7  04/01/2010                   7500                   2267   \n",
       "8  05/01/2010                   7485                   2302   \n",
       "9  06/01/2010                   7660                   2377   \n",
       "\n",
       "              Unnamed: 3             Unnamed: 4             Unnamed: 5  \\\n",
       "0                    NaN                    NaN                    NaN   \n",
       "1                    NaN                    NaN                    NaN   \n",
       "2  LME ZINC      3MO ($)  LME LEAD      3MO ($)  LME TIN       3MO ($)   \n",
       "3        LMZSDS03 Comdty        LMPBDS03 Comdty        LMSNDS03 Comdty   \n",
       "4       Settlement Price       Settlement Price       Settlement Price   \n",
       "5              PX_SETTLE              PX_SETTLE              PX_SETTLE   \n",
       "6                   2560                   2432                  16950   \n",
       "7                   2574                   2515                  17450   \n",
       "8                   2575                 2522.5                  17375   \n",
       "9                   2718                   2680                  17825   \n",
       "\n",
       "                Unnamed: 6  \n",
       "0                      NaN  \n",
       "1                      NaN  \n",
       "2  Generic 1st 'CL' Future  \n",
       "3               CL1 Comdty  \n",
       "4         Settlement Price  \n",
       "5                PX_SETTLE  \n",
       "6                    79.36  \n",
       "7                    81.51  \n",
       "8                    81.77  \n",
       "9                    83.18  "
      ]
     },
     "execution_count": 3,
     "metadata": {},
     "output_type": "execute_result"
    }
   ],
   "source": [
    "# Names of commodities clearly visible in third row\n",
    "df.head(10)"
   ]
  },
  {
   "cell_type": "code",
   "execution_count": 4,
   "id": "258b9676",
   "metadata": {},
   "outputs": [],
   "source": [
    "# Relevant price data begins in seventh row\n",
    "df = df.drop(range(6))\n",
    "\n",
    "# Easier to filter data with more intuitive names\n",
    "df.columns = ['Date', 'Copper', 'Aluminium', 'Zinc', 'Lead', 'Tin', 'Oil']"
   ]
  },
  {
   "cell_type": "code",
   "execution_count": 5,
   "id": "19c9941d",
   "metadata": {
    "scrolled": true
   },
   "outputs": [
    {
     "data": {
      "text/html": [
       "<div>\n",
       "<style scoped>\n",
       "    .dataframe tbody tr th:only-of-type {\n",
       "        vertical-align: middle;\n",
       "    }\n",
       "\n",
       "    .dataframe tbody tr th {\n",
       "        vertical-align: top;\n",
       "    }\n",
       "\n",
       "    .dataframe thead th {\n",
       "        text-align: right;\n",
       "    }\n",
       "</style>\n",
       "<table border=\"1\" class=\"dataframe\">\n",
       "  <thead>\n",
       "    <tr style=\"text-align: right;\">\n",
       "      <th></th>\n",
       "      <th>Date</th>\n",
       "      <th>Copper</th>\n",
       "      <th>Aluminium</th>\n",
       "      <th>Zinc</th>\n",
       "      <th>Lead</th>\n",
       "      <th>Tin</th>\n",
       "      <th>Oil</th>\n",
       "    </tr>\n",
       "  </thead>\n",
       "  <tbody>\n",
       "    <tr>\n",
       "      <th>6</th>\n",
       "      <td>01/01/2010</td>\n",
       "      <td>7375</td>\n",
       "      <td>2230</td>\n",
       "      <td>2560</td>\n",
       "      <td>2432</td>\n",
       "      <td>16950</td>\n",
       "      <td>79.36</td>\n",
       "    </tr>\n",
       "    <tr>\n",
       "      <th>7</th>\n",
       "      <td>04/01/2010</td>\n",
       "      <td>7500</td>\n",
       "      <td>2267</td>\n",
       "      <td>2574</td>\n",
       "      <td>2515</td>\n",
       "      <td>17450</td>\n",
       "      <td>81.51</td>\n",
       "    </tr>\n",
       "    <tr>\n",
       "      <th>8</th>\n",
       "      <td>05/01/2010</td>\n",
       "      <td>7485</td>\n",
       "      <td>2302</td>\n",
       "      <td>2575</td>\n",
       "      <td>2522.5</td>\n",
       "      <td>17375</td>\n",
       "      <td>81.77</td>\n",
       "    </tr>\n",
       "    <tr>\n",
       "      <th>9</th>\n",
       "      <td>06/01/2010</td>\n",
       "      <td>7660</td>\n",
       "      <td>2377</td>\n",
       "      <td>2718</td>\n",
       "      <td>2680</td>\n",
       "      <td>17825</td>\n",
       "      <td>83.18</td>\n",
       "    </tr>\n",
       "    <tr>\n",
       "      <th>10</th>\n",
       "      <td>07/01/2010</td>\n",
       "      <td>7535</td>\n",
       "      <td>2310</td>\n",
       "      <td>2607</td>\n",
       "      <td>2599</td>\n",
       "      <td>17475</td>\n",
       "      <td>82.66</td>\n",
       "    </tr>\n",
       "  </tbody>\n",
       "</table>\n",
       "</div>"
      ],
      "text/plain": [
       "          Date Copper Aluminium  Zinc    Lead    Tin    Oil\n",
       "6   01/01/2010   7375      2230  2560    2432  16950  79.36\n",
       "7   04/01/2010   7500      2267  2574    2515  17450  81.51\n",
       "8   05/01/2010   7485      2302  2575  2522.5  17375  81.77\n",
       "9   06/01/2010   7660      2377  2718    2680  17825  83.18\n",
       "10  07/01/2010   7535      2310  2607    2599  17475  82.66"
      ]
     },
     "execution_count": 5,
     "metadata": {},
     "output_type": "execute_result"
    }
   ],
   "source": [
    "df.head()"
   ]
  },
  {
   "cell_type": "code",
   "execution_count": 6,
   "id": "41e5fcfc",
   "metadata": {},
   "outputs": [
    {
     "name": "stdout",
     "output_type": "stream",
     "text": [
      "Data types of each column:\n",
      "\n",
      "Date         object\n",
      "Copper       object\n",
      "Aluminium    object\n",
      "Zinc         object\n",
      "Lead         object\n",
      "Tin          object\n",
      "Oil          object\n",
      "dtype: object\n"
     ]
    }
   ],
   "source": [
    "# Checks data types of columns as expected\n",
    "print(\"Data types of each column:\\n\")\n",
    "print(df.dtypes)"
   ]
  },
  {
   "cell_type": "code",
   "execution_count": 7,
   "id": "8f8bf5b6",
   "metadata": {},
   "outputs": [
    {
     "name": "stdout",
     "output_type": "stream",
     "text": [
      "Missing values per column:\n",
      "\n",
      "Date         0\n",
      "Copper       0\n",
      "Aluminium    0\n",
      "Zinc         0\n",
      "Lead         0\n",
      "Tin          0\n",
      "Oil          0\n",
      "dtype: int64\n"
     ]
    }
   ],
   "source": [
    "# Check for missing values in each column\n",
    "print(\"Missing values per column:\\n\")\n",
    "print(df.isnull().sum())"
   ]
  },
  {
   "cell_type": "markdown",
   "id": "2f8820e8",
   "metadata": {},
   "source": [
    "Not reindexed DataFrame as still to filter. Will convert relevant columns to DateTime/ numeric data after dropping redundant ones to decrease overhead."
   ]
  },
  {
   "cell_type": "markdown",
   "id": "0e21140f",
   "metadata": {},
   "source": [
    "## 2. Filter the data to include only 'Copper' and 'Zinc' for the year 2021"
   ]
  },
  {
   "cell_type": "markdown",
   "id": "68493b90",
   "metadata": {},
   "source": [
    "When filtering the data above and below, as well as in subsequent questions, I've mostly chosen to overwrite the DataFrame into the same variable **`df`** in order to keep the code concise as well as to conserve memory efficiently and reduce overhead. It is also clear from the question that no intermediate results from the filtering process need to be retained and the small amount of filtering steps required ensures there are no problems with readability."
   ]
  },
  {
   "cell_type": "code",
   "execution_count": 8,
   "id": "477e7101",
   "metadata": {},
   "outputs": [],
   "source": [
    "# Removes all columns apart from 'Date', Copper' and 'Zinc'\n",
    "df = df.loc[:, ['Date', 'Copper', 'Zinc']]"
   ]
  },
  {
   "cell_type": "code",
   "execution_count": 9,
   "id": "1b602fb8",
   "metadata": {},
   "outputs": [],
   "source": [
    "# Creates a list of columns to be converted to numeric values\n",
    "columns_to_numeric = ['Copper', 'Zinc']\n",
    "\n",
    "# Converts list of columns to numeric values\n",
    "for column in columns_to_numeric:\n",
    "    df.loc[:, column] = pd.to_numeric(df[column], errors='coerce')\n",
    "    \n",
    "# Converts (day-first) date strings to datetime objects\n",
    "df['Date'] = pd.to_datetime(df['Date'], format='%d/%m/%Y')"
   ]
  },
  {
   "cell_type": "code",
   "execution_count": 10,
   "id": "eb3c11b9",
   "metadata": {},
   "outputs": [],
   "source": [
    "# Filters data to only include the year 2021\n",
    "filtered_data = df.loc[df['Date'].dt.year == 2021]\n",
    "\n",
    "# Reindexes DataFrame (in place) to make filtered data more readable, dropping old index\n",
    "filtered_data.reset_index(drop=True, inplace=True)"
   ]
  },
  {
   "cell_type": "code",
   "execution_count": 11,
   "id": "6e3b0fd2",
   "metadata": {},
   "outputs": [
    {
     "data": {
      "text/html": [
       "<div>\n",
       "<style scoped>\n",
       "    .dataframe tbody tr th:only-of-type {\n",
       "        vertical-align: middle;\n",
       "    }\n",
       "\n",
       "    .dataframe tbody tr th {\n",
       "        vertical-align: top;\n",
       "    }\n",
       "\n",
       "    .dataframe thead th {\n",
       "        text-align: right;\n",
       "    }\n",
       "</style>\n",
       "<table border=\"1\" class=\"dataframe\">\n",
       "  <thead>\n",
       "    <tr style=\"text-align: right;\">\n",
       "      <th></th>\n",
       "      <th>Date</th>\n",
       "      <th>Copper</th>\n",
       "      <th>Zinc</th>\n",
       "    </tr>\n",
       "  </thead>\n",
       "  <tbody>\n",
       "    <tr>\n",
       "      <th>0</th>\n",
       "      <td>2021-01-01</td>\n",
       "      <td>7766.0</td>\n",
       "      <td>2751.0</td>\n",
       "    </tr>\n",
       "    <tr>\n",
       "      <th>1</th>\n",
       "      <td>2021-01-04</td>\n",
       "      <td>7860.5</td>\n",
       "      <td>2792.0</td>\n",
       "    </tr>\n",
       "    <tr>\n",
       "      <th>2</th>\n",
       "      <td>2021-01-05</td>\n",
       "      <td>8002.0</td>\n",
       "      <td>2813.0</td>\n",
       "    </tr>\n",
       "    <tr>\n",
       "      <th>3</th>\n",
       "      <td>2021-01-06</td>\n",
       "      <td>8037.5</td>\n",
       "      <td>2860.0</td>\n",
       "    </tr>\n",
       "    <tr>\n",
       "      <th>4</th>\n",
       "      <td>2021-01-07</td>\n",
       "      <td>8179.0</td>\n",
       "      <td>2888.0</td>\n",
       "    </tr>\n",
       "  </tbody>\n",
       "</table>\n",
       "</div>"
      ],
      "text/plain": [
       "        Date  Copper    Zinc\n",
       "0 2021-01-01  7766.0  2751.0\n",
       "1 2021-01-04  7860.5  2792.0\n",
       "2 2021-01-05  8002.0  2813.0\n",
       "3 2021-01-06  8037.5  2860.0\n",
       "4 2021-01-07  8179.0  2888.0"
      ]
     },
     "execution_count": 11,
     "metadata": {},
     "output_type": "execute_result"
    }
   ],
   "source": [
    "# Checks filtered data begins at the start of the year 2021\n",
    "filtered_data.head()"
   ]
  },
  {
   "cell_type": "code",
   "execution_count": 12,
   "id": "028deffd",
   "metadata": {},
   "outputs": [
    {
     "data": {
      "text/html": [
       "<div>\n",
       "<style scoped>\n",
       "    .dataframe tbody tr th:only-of-type {\n",
       "        vertical-align: middle;\n",
       "    }\n",
       "\n",
       "    .dataframe tbody tr th {\n",
       "        vertical-align: top;\n",
       "    }\n",
       "\n",
       "    .dataframe thead th {\n",
       "        text-align: right;\n",
       "    }\n",
       "</style>\n",
       "<table border=\"1\" class=\"dataframe\">\n",
       "  <thead>\n",
       "    <tr style=\"text-align: right;\">\n",
       "      <th></th>\n",
       "      <th>Date</th>\n",
       "      <th>Copper</th>\n",
       "      <th>Zinc</th>\n",
       "    </tr>\n",
       "  </thead>\n",
       "  <tbody>\n",
       "    <tr>\n",
       "      <th>256</th>\n",
       "      <td>2021-12-27</td>\n",
       "      <td>9568.0</td>\n",
       "      <td>3519.0</td>\n",
       "    </tr>\n",
       "    <tr>\n",
       "      <th>257</th>\n",
       "      <td>2021-12-28</td>\n",
       "      <td>9568.0</td>\n",
       "      <td>3519.0</td>\n",
       "    </tr>\n",
       "    <tr>\n",
       "      <th>258</th>\n",
       "      <td>2021-12-29</td>\n",
       "      <td>9680.5</td>\n",
       "      <td>3513.0</td>\n",
       "    </tr>\n",
       "    <tr>\n",
       "      <th>259</th>\n",
       "      <td>2021-12-30</td>\n",
       "      <td>9691.5</td>\n",
       "      <td>3532.5</td>\n",
       "    </tr>\n",
       "    <tr>\n",
       "      <th>260</th>\n",
       "      <td>2021-12-31</td>\n",
       "      <td>9720.5</td>\n",
       "      <td>3534.0</td>\n",
       "    </tr>\n",
       "  </tbody>\n",
       "</table>\n",
       "</div>"
      ],
      "text/plain": [
       "          Date  Copper    Zinc\n",
       "256 2021-12-27  9568.0  3519.0\n",
       "257 2021-12-28  9568.0  3519.0\n",
       "258 2021-12-29  9680.5  3513.0\n",
       "259 2021-12-30  9691.5  3532.5\n",
       "260 2021-12-31  9720.5  3534.0"
      ]
     },
     "execution_count": 12,
     "metadata": {},
     "output_type": "execute_result"
    }
   ],
   "source": [
    "# Checks filtered data finishes at the end of the year 2021\n",
    "filtered_data.tail()"
   ]
  },
  {
   "cell_type": "markdown",
   "id": "7859f2f5",
   "metadata": {},
   "source": [
    "## 3. Calculate the average price per month for each metal and plot it"
   ]
  },
  {
   "cell_type": "code",
   "execution_count": 13,
   "id": "3eac54f2",
   "metadata": {},
   "outputs": [],
   "source": [
    "# Calculates the average monthly price in 2021 for both copper and zinc\n",
    "monthly_avg = filtered_data.groupby(filtered_data['Date'].dt.to_period('M')).agg({'Copper': 'mean', 'Zinc': 'mean'}).reset_index()"
   ]
  },
  {
   "cell_type": "code",
   "execution_count": 14,
   "id": "dd59daf8",
   "metadata": {
    "scrolled": true
   },
   "outputs": [],
   "source": [
    "# Converts the datetime objects in the 'Date' column back to strings\n",
    "monthly_avg['Date'] = monthly_avg['Date'].dt.strftime('%m')"
   ]
  },
  {
   "cell_type": "code",
   "execution_count": 15,
   "id": "58113983",
   "metadata": {},
   "outputs": [
    {
     "data": {
      "image/png": "[encoded data removed]",
      "text/plain": [
       "<Figure size 1000x600 with 1 Axes>"
      ]
     },
     "metadata": {},
     "output_type": "display_data"
    }
   ],
   "source": [
    "# Plots the average price per month for each metal\n",
    "plt.figure(figsize=(10, 6))\n",
    "plt.plot(monthly_avg['Date'], monthly_avg['Copper'], label='Copper', marker='o')\n",
    "plt.plot(monthly_avg['Date'], monthly_avg['Zinc'], label='Zinc', marker='o')\n",
    "plt.title('Average monthly prices for copper and zinc (2021)')\n",
    "plt.xlabel('Month')\n",
    "plt.ylabel('Average price (USD)')\n",
    "plt.legend()\n",
    "plt.grid(True)\n",
    "plt.xticks(rotation=45)\n",
    "plt.tight_layout()\n",
    "plt.show()"
   ]
  }
 ],
 "metadata": {
  "kernelspec": {
   "display_name": "Python 3 (ipykernel)",
   "language": "python",
   "name": "python3"
  },
  "language_info": {
   "codemirror_mode": {
    "name": "ipython",
    "version": 3
   },
   "file_extension": ".py",
   "mimetype": "text/x-python",
   "name": "python",
   "nbconvert_exporter": "python",
   "pygments_lexer": "ipython3",
   "version": "3.11.4"
  }
 },
 "nbformat": 4,
 "nbformat_minor": 5
}
